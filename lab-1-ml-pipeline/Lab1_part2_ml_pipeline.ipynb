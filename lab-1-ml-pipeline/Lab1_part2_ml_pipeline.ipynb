{
  "cells": [
    {
      "cell_type": "markdown",
      "metadata": {
        "nbgrader": {
          "grade": false,
          "grade_id": "cell-86e0de040aac317a",
          "locked": true,
          "schema_version": 2,
          "solution": false
        },
        "id": "NIQadHBnLbi_"
      },
      "source": [
        "# Lab assignment №1, part 2\n",
        "\n",
        "This lab assignment consists of several parts. You are supposed to make some transformations, train some models, estimate the quality of the models and explain your results.\n",
        "\n",
        "Several comments:\n",
        "* Don't hesitate to ask questions, it's a good practice.\n",
        "* No private/public sharing, please. The copied assignments will be graded with 0 points.\n",
        "* Blocks of this lab will be graded separately."
      ]
    },
    {
      "cell_type": "markdown",
      "metadata": {
        "id": "Bjtwk6JdLbjB"
      },
      "source": [
        "__*This is the second part of the assignment. First and third parts are waiting for you in the same directory.*__"
      ]
    },
    {
      "cell_type": "markdown",
      "metadata": {
        "nbgrader": {
          "grade": false,
          "grade_id": "cell-512ba712fc0fc065",
          "locked": true,
          "schema_version": 2,
          "solution": false
        },
        "id": "EPurHt0nLbjB"
      },
      "source": [
        "## Part 2. Data preprocessing, model training and evaluation."
      ]
    },
    {
      "cell_type": "markdown",
      "metadata": {
        "nbgrader": {
          "grade": false,
          "grade_id": "cell-b656a4266174b009",
          "locked": true,
          "schema_version": 2,
          "solution": false
        },
        "id": "p590RZNgLbjC"
      },
      "source": [
        "### 1. Reading the data\n",
        "Today we work with the [dataset](https://archive.ics.uci.edu/ml/datasets/Statlog+%28Vehicle+Silhouettes%29), describing different cars for multiclass ($k=4$) classification problem. The data is available below."
      ]
    },
    {
      "cell_type": "code",
      "execution_count": null,
      "metadata": {
        "id": "yMHKXdxxLbjC"
      },
      "outputs": [],
      "source": [
        "# If on colab, uncomment the following lines\n",
        "! wget https://raw.githubusercontent.com/girafe-ai/ml-course/22f_made/homeworks/lab01_ml_pipeline/car_data.csv"
      ]
    },
    {
      "cell_type": "code",
      "execution_count": null,
      "metadata": {
        "nbgrader": {
          "grade": false,
          "grade_id": "cell-eebac6bfdf73d0bc",
          "locked": true,
          "schema_version": 2,
          "solution": false
        },
        "id": "Eh_76WfxLbjD"
      },
      "outputs": [],
      "source": [
        "import pandas as pd\n",
        "import numpy as np\n",
        "from sklearn.model_selection import train_test_split\n",
        "\n",
        "dataset = pd.read_csv('car_data.csv', delimiter=',', header=None).values\n",
        "data = dataset[:, :-1].astype(int)\n",
        "target = dataset[:, -1]\n",
        "\n",
        "print(data.shape, target.shape)\n",
        "\n",
        "X_train, X_test, y_train, y_test = train_test_split(data, target, test_size=0.35)\n",
        "print(X_train.shape, y_train.shape, X_test.shape, y_test.shape)"
      ]
    },
    {
      "cell_type": "markdown",
      "metadata": {
        "nbgrader": {
          "grade": false,
          "grade_id": "cell-88b1a0f688568f2c",
          "locked": true,
          "schema_version": 2,
          "solution": false
        },
        "id": "dlf2TvMDLbjE"
      },
      "source": [
        "To get some insights about the dataset, `pandas` might be used. The `train` part is transformed to `pd.DataFrame` below."
      ]
    },
    {
      "cell_type": "code",
      "execution_count": 5,
      "metadata": {
        "id": "q3CRHmSBLbjE",
        "outputId": "4c8208a4-6ecd-4135-b799-4b4dab9fd9b4",
        "colab": {
          "base_uri": "https://localhost:8080/",
          "height": 520
        }
      },
      "outputs": [
        {
          "output_type": "execute_result",
          "data": {
            "text/plain": [
              "     0    1   2    3    4   5   6    7   8   9    10   11   12   13  14  15  \\\n",
              "0   810   97  55  103  197  63  11  215  31  24  172  219  677  219  75   5   \n",
              "1   563   89  42   75  140  55   6  145  46  19  139  170  312  166  71  15   \n",
              "2   450   91  46   75  185  75   7  154  42  19  147  178  362  192  72   8   \n",
              "3   360  108  52  109  182  55  12  216  31  24  171  229  687  214  72  10   \n",
              "4    78  104  52   94  208  66   5  208  31  24  161  227  666  218  76  11   \n",
              "5   708   94  49   82  137  56  10  159  43  20  160  176  367  186  76  10   \n",
              "6   617   83  37   49  112  55   5  122  55  17  128  144  219  146  85   8   \n",
              "7   219   85  39   57  126  56   6  114  58  17  135  134  195  145  64  17   \n",
              "8   604   88  40   79  183  62   7  176  38  21  138  200  462  150  66   0   \n",
              "9    54  101  56  104  185  53   6  257  26  28  168  275  956  230  83   5   \n",
              "10  694  100  43   92  197  62  10  180  36  21  143  200  489  153  64   6   \n",
              "11  797  111  53  108  211  61  11  207  32  23  167  217  636  216  64  21   \n",
              "12  586   98  55  108  168  53  11  224  30  25  178  231  737  217  73   8   \n",
              "13  423   85  45   70  120  54   7  149  45  19  145  169  326  186  81   8   \n",
              "14   32   93  35   66  154  59   6  142  46  18  128  162  304  120  64   5   \n",
              "\n",
              "    16   17   18  \n",
              "0   24  185  194  \n",
              "1   26  191  198  \n",
              "2    8  192  199  \n",
              "3   28  189  201  \n",
              "4    4  193  191  \n",
              "5    7  183  192  \n",
              "6   16  180  184  \n",
              "7    7  197  202  \n",
              "8   29  189  199  \n",
              "9   26  180  184  \n",
              "10   9  195  205  \n",
              "11   2  196  205  \n",
              "12  30  187  198  \n",
              "13   4  181  184  \n",
              "14  13  197  202  "
            ],
            "text/html": [
              "\n",
              "  <div id=\"df-fe71a97b-011a-4a15-834e-c235c10d6378\">\n",
              "    <div class=\"colab-df-container\">\n",
              "      <div>\n",
              "<style scoped>\n",
              "    .dataframe tbody tr th:only-of-type {\n",
              "        vertical-align: middle;\n",
              "    }\n",
              "\n",
              "    .dataframe tbody tr th {\n",
              "        vertical-align: top;\n",
              "    }\n",
              "\n",
              "    .dataframe thead th {\n",
              "        text-align: right;\n",
              "    }\n",
              "</style>\n",
              "<table border=\"1\" class=\"dataframe\">\n",
              "  <thead>\n",
              "    <tr style=\"text-align: right;\">\n",
              "      <th></th>\n",
              "      <th>0</th>\n",
              "      <th>1</th>\n",
              "      <th>2</th>\n",
              "      <th>3</th>\n",
              "      <th>4</th>\n",
              "      <th>5</th>\n",
              "      <th>6</th>\n",
              "      <th>7</th>\n",
              "      <th>8</th>\n",
              "      <th>9</th>\n",
              "      <th>10</th>\n",
              "      <th>11</th>\n",
              "      <th>12</th>\n",
              "      <th>13</th>\n",
              "      <th>14</th>\n",
              "      <th>15</th>\n",
              "      <th>16</th>\n",
              "      <th>17</th>\n",
              "      <th>18</th>\n",
              "    </tr>\n",
              "  </thead>\n",
              "  <tbody>\n",
              "    <tr>\n",
              "      <th>0</th>\n",
              "      <td>810</td>\n",
              "      <td>97</td>\n",
              "      <td>55</td>\n",
              "      <td>103</td>\n",
              "      <td>197</td>\n",
              "      <td>63</td>\n",
              "      <td>11</td>\n",
              "      <td>215</td>\n",
              "      <td>31</td>\n",
              "      <td>24</td>\n",
              "      <td>172</td>\n",
              "      <td>219</td>\n",
              "      <td>677</td>\n",
              "      <td>219</td>\n",
              "      <td>75</td>\n",
              "      <td>5</td>\n",
              "      <td>24</td>\n",
              "      <td>185</td>\n",
              "      <td>194</td>\n",
              "    </tr>\n",
              "    <tr>\n",
              "      <th>1</th>\n",
              "      <td>563</td>\n",
              "      <td>89</td>\n",
              "      <td>42</td>\n",
              "      <td>75</td>\n",
              "      <td>140</td>\n",
              "      <td>55</td>\n",
              "      <td>6</td>\n",
              "      <td>145</td>\n",
              "      <td>46</td>\n",
              "      <td>19</td>\n",
              "      <td>139</td>\n",
              "      <td>170</td>\n",
              "      <td>312</td>\n",
              "      <td>166</td>\n",
              "      <td>71</td>\n",
              "      <td>15</td>\n",
              "      <td>26</td>\n",
              "      <td>191</td>\n",
              "      <td>198</td>\n",
              "    </tr>\n",
              "    <tr>\n",
              "      <th>2</th>\n",
              "      <td>450</td>\n",
              "      <td>91</td>\n",
              "      <td>46</td>\n",
              "      <td>75</td>\n",
              "      <td>185</td>\n",
              "      <td>75</td>\n",
              "      <td>7</td>\n",
              "      <td>154</td>\n",
              "      <td>42</td>\n",
              "      <td>19</td>\n",
              "      <td>147</td>\n",
              "      <td>178</td>\n",
              "      <td>362</td>\n",
              "      <td>192</td>\n",
              "      <td>72</td>\n",
              "      <td>8</td>\n",
              "      <td>8</td>\n",
              "      <td>192</td>\n",
              "      <td>199</td>\n",
              "    </tr>\n",
              "    <tr>\n",
              "      <th>3</th>\n",
              "      <td>360</td>\n",
              "      <td>108</td>\n",
              "      <td>52</td>\n",
              "      <td>109</td>\n",
              "      <td>182</td>\n",
              "      <td>55</td>\n",
              "      <td>12</td>\n",
              "      <td>216</td>\n",
              "      <td>31</td>\n",
              "      <td>24</td>\n",
              "      <td>171</td>\n",
              "      <td>229</td>\n",
              "      <td>687</td>\n",
              "      <td>214</td>\n",
              "      <td>72</td>\n",
              "      <td>10</td>\n",
              "      <td>28</td>\n",
              "      <td>189</td>\n",
              "      <td>201</td>\n",
              "    </tr>\n",
              "    <tr>\n",
              "      <th>4</th>\n",
              "      <td>78</td>\n",
              "      <td>104</td>\n",
              "      <td>52</td>\n",
              "      <td>94</td>\n",
              "      <td>208</td>\n",
              "      <td>66</td>\n",
              "      <td>5</td>\n",
              "      <td>208</td>\n",
              "      <td>31</td>\n",
              "      <td>24</td>\n",
              "      <td>161</td>\n",
              "      <td>227</td>\n",
              "      <td>666</td>\n",
              "      <td>218</td>\n",
              "      <td>76</td>\n",
              "      <td>11</td>\n",
              "      <td>4</td>\n",
              "      <td>193</td>\n",
              "      <td>191</td>\n",
              "    </tr>\n",
              "    <tr>\n",
              "      <th>5</th>\n",
              "      <td>708</td>\n",
              "      <td>94</td>\n",
              "      <td>49</td>\n",
              "      <td>82</td>\n",
              "      <td>137</td>\n",
              "      <td>56</td>\n",
              "      <td>10</td>\n",
              "      <td>159</td>\n",
              "      <td>43</td>\n",
              "      <td>20</td>\n",
              "      <td>160</td>\n",
              "      <td>176</td>\n",
              "      <td>367</td>\n",
              "      <td>186</td>\n",
              "      <td>76</td>\n",
              "      <td>10</td>\n",
              "      <td>7</td>\n",
              "      <td>183</td>\n",
              "      <td>192</td>\n",
              "    </tr>\n",
              "    <tr>\n",
              "      <th>6</th>\n",
              "      <td>617</td>\n",
              "      <td>83</td>\n",
              "      <td>37</td>\n",
              "      <td>49</td>\n",
              "      <td>112</td>\n",
              "      <td>55</td>\n",
              "      <td>5</td>\n",
              "      <td>122</td>\n",
              "      <td>55</td>\n",
              "      <td>17</td>\n",
              "      <td>128</td>\n",
              "      <td>144</td>\n",
              "      <td>219</td>\n",
              "      <td>146</td>\n",
              "      <td>85</td>\n",
              "      <td>8</td>\n",
              "      <td>16</td>\n",
              "      <td>180</td>\n",
              "      <td>184</td>\n",
              "    </tr>\n",
              "    <tr>\n",
              "      <th>7</th>\n",
              "      <td>219</td>\n",
              "      <td>85</td>\n",
              "      <td>39</td>\n",
              "      <td>57</td>\n",
              "      <td>126</td>\n",
              "      <td>56</td>\n",
              "      <td>6</td>\n",
              "      <td>114</td>\n",
              "      <td>58</td>\n",
              "      <td>17</td>\n",
              "      <td>135</td>\n",
              "      <td>134</td>\n",
              "      <td>195</td>\n",
              "      <td>145</td>\n",
              "      <td>64</td>\n",
              "      <td>17</td>\n",
              "      <td>7</td>\n",
              "      <td>197</td>\n",
              "      <td>202</td>\n",
              "    </tr>\n",
              "    <tr>\n",
              "      <th>8</th>\n",
              "      <td>604</td>\n",
              "      <td>88</td>\n",
              "      <td>40</td>\n",
              "      <td>79</td>\n",
              "      <td>183</td>\n",
              "      <td>62</td>\n",
              "      <td>7</td>\n",
              "      <td>176</td>\n",
              "      <td>38</td>\n",
              "      <td>21</td>\n",
              "      <td>138</td>\n",
              "      <td>200</td>\n",
              "      <td>462</td>\n",
              "      <td>150</td>\n",
              "      <td>66</td>\n",
              "      <td>0</td>\n",
              "      <td>29</td>\n",
              "      <td>189</td>\n",
              "      <td>199</td>\n",
              "    </tr>\n",
              "    <tr>\n",
              "      <th>9</th>\n",
              "      <td>54</td>\n",
              "      <td>101</td>\n",
              "      <td>56</td>\n",
              "      <td>104</td>\n",
              "      <td>185</td>\n",
              "      <td>53</td>\n",
              "      <td>6</td>\n",
              "      <td>257</td>\n",
              "      <td>26</td>\n",
              "      <td>28</td>\n",
              "      <td>168</td>\n",
              "      <td>275</td>\n",
              "      <td>956</td>\n",
              "      <td>230</td>\n",
              "      <td>83</td>\n",
              "      <td>5</td>\n",
              "      <td>26</td>\n",
              "      <td>180</td>\n",
              "      <td>184</td>\n",
              "    </tr>\n",
              "    <tr>\n",
              "      <th>10</th>\n",
              "      <td>694</td>\n",
              "      <td>100</td>\n",
              "      <td>43</td>\n",
              "      <td>92</td>\n",
              "      <td>197</td>\n",
              "      <td>62</td>\n",
              "      <td>10</td>\n",
              "      <td>180</td>\n",
              "      <td>36</td>\n",
              "      <td>21</td>\n",
              "      <td>143</td>\n",
              "      <td>200</td>\n",
              "      <td>489</td>\n",
              "      <td>153</td>\n",
              "      <td>64</td>\n",
              "      <td>6</td>\n",
              "      <td>9</td>\n",
              "      <td>195</td>\n",
              "      <td>205</td>\n",
              "    </tr>\n",
              "    <tr>\n",
              "      <th>11</th>\n",
              "      <td>797</td>\n",
              "      <td>111</td>\n",
              "      <td>53</td>\n",
              "      <td>108</td>\n",
              "      <td>211</td>\n",
              "      <td>61</td>\n",
              "      <td>11</td>\n",
              "      <td>207</td>\n",
              "      <td>32</td>\n",
              "      <td>23</td>\n",
              "      <td>167</td>\n",
              "      <td>217</td>\n",
              "      <td>636</td>\n",
              "      <td>216</td>\n",
              "      <td>64</td>\n",
              "      <td>21</td>\n",
              "      <td>2</td>\n",
              "      <td>196</td>\n",
              "      <td>205</td>\n",
              "    </tr>\n",
              "    <tr>\n",
              "      <th>12</th>\n",
              "      <td>586</td>\n",
              "      <td>98</td>\n",
              "      <td>55</td>\n",
              "      <td>108</td>\n",
              "      <td>168</td>\n",
              "      <td>53</td>\n",
              "      <td>11</td>\n",
              "      <td>224</td>\n",
              "      <td>30</td>\n",
              "      <td>25</td>\n",
              "      <td>178</td>\n",
              "      <td>231</td>\n",
              "      <td>737</td>\n",
              "      <td>217</td>\n",
              "      <td>73</td>\n",
              "      <td>8</td>\n",
              "      <td>30</td>\n",
              "      <td>187</td>\n",
              "      <td>198</td>\n",
              "    </tr>\n",
              "    <tr>\n",
              "      <th>13</th>\n",
              "      <td>423</td>\n",
              "      <td>85</td>\n",
              "      <td>45</td>\n",
              "      <td>70</td>\n",
              "      <td>120</td>\n",
              "      <td>54</td>\n",
              "      <td>7</td>\n",
              "      <td>149</td>\n",
              "      <td>45</td>\n",
              "      <td>19</td>\n",
              "      <td>145</td>\n",
              "      <td>169</td>\n",
              "      <td>326</td>\n",
              "      <td>186</td>\n",
              "      <td>81</td>\n",
              "      <td>8</td>\n",
              "      <td>4</td>\n",
              "      <td>181</td>\n",
              "      <td>184</td>\n",
              "    </tr>\n",
              "    <tr>\n",
              "      <th>14</th>\n",
              "      <td>32</td>\n",
              "      <td>93</td>\n",
              "      <td>35</td>\n",
              "      <td>66</td>\n",
              "      <td>154</td>\n",
              "      <td>59</td>\n",
              "      <td>6</td>\n",
              "      <td>142</td>\n",
              "      <td>46</td>\n",
              "      <td>18</td>\n",
              "      <td>128</td>\n",
              "      <td>162</td>\n",
              "      <td>304</td>\n",
              "      <td>120</td>\n",
              "      <td>64</td>\n",
              "      <td>5</td>\n",
              "      <td>13</td>\n",
              "      <td>197</td>\n",
              "      <td>202</td>\n",
              "    </tr>\n",
              "  </tbody>\n",
              "</table>\n",
              "</div>\n",
              "      <button class=\"colab-df-convert\" onclick=\"convertToInteractive('df-fe71a97b-011a-4a15-834e-c235c10d6378')\"\n",
              "              title=\"Convert this dataframe to an interactive table.\"\n",
              "              style=\"display:none;\">\n",
              "        \n",
              "  <svg xmlns=\"http://www.w3.org/2000/svg\" height=\"24px\"viewBox=\"0 0 24 24\"\n",
              "       width=\"24px\">\n",
              "    <path d=\"M0 0h24v24H0V0z\" fill=\"none\"/>\n",
              "    <path d=\"M18.56 5.44l.94 2.06.94-2.06 2.06-.94-2.06-.94-.94-2.06-.94 2.06-2.06.94zm-11 1L8.5 8.5l.94-2.06 2.06-.94-2.06-.94L8.5 2.5l-.94 2.06-2.06.94zm10 10l.94 2.06.94-2.06 2.06-.94-2.06-.94-.94-2.06-.94 2.06-2.06.94z\"/><path d=\"M17.41 7.96l-1.37-1.37c-.4-.4-.92-.59-1.43-.59-.52 0-1.04.2-1.43.59L10.3 9.45l-7.72 7.72c-.78.78-.78 2.05 0 2.83L4 21.41c.39.39.9.59 1.41.59.51 0 1.02-.2 1.41-.59l7.78-7.78 2.81-2.81c.8-.78.8-2.07 0-2.86zM5.41 20L4 18.59l7.72-7.72 1.47 1.35L5.41 20z\"/>\n",
              "  </svg>\n",
              "      </button>\n",
              "      \n",
              "  <style>\n",
              "    .colab-df-container {\n",
              "      display:flex;\n",
              "      flex-wrap:wrap;\n",
              "      gap: 12px;\n",
              "    }\n",
              "\n",
              "    .colab-df-convert {\n",
              "      background-color: #E8F0FE;\n",
              "      border: none;\n",
              "      border-radius: 50%;\n",
              "      cursor: pointer;\n",
              "      display: none;\n",
              "      fill: #1967D2;\n",
              "      height: 32px;\n",
              "      padding: 0 0 0 0;\n",
              "      width: 32px;\n",
              "    }\n",
              "\n",
              "    .colab-df-convert:hover {\n",
              "      background-color: #E2EBFA;\n",
              "      box-shadow: 0px 1px 2px rgba(60, 64, 67, 0.3), 0px 1px 3px 1px rgba(60, 64, 67, 0.15);\n",
              "      fill: #174EA6;\n",
              "    }\n",
              "\n",
              "    [theme=dark] .colab-df-convert {\n",
              "      background-color: #3B4455;\n",
              "      fill: #D2E3FC;\n",
              "    }\n",
              "\n",
              "    [theme=dark] .colab-df-convert:hover {\n",
              "      background-color: #434B5C;\n",
              "      box-shadow: 0px 1px 3px 1px rgba(0, 0, 0, 0.15);\n",
              "      filter: drop-shadow(0px 1px 2px rgba(0, 0, 0, 0.3));\n",
              "      fill: #FFFFFF;\n",
              "    }\n",
              "  </style>\n",
              "\n",
              "      <script>\n",
              "        const buttonEl =\n",
              "          document.querySelector('#df-fe71a97b-011a-4a15-834e-c235c10d6378 button.colab-df-convert');\n",
              "        buttonEl.style.display =\n",
              "          google.colab.kernel.accessAllowed ? 'block' : 'none';\n",
              "\n",
              "        async function convertToInteractive(key) {\n",
              "          const element = document.querySelector('#df-fe71a97b-011a-4a15-834e-c235c10d6378');\n",
              "          const dataTable =\n",
              "            await google.colab.kernel.invokeFunction('convertToInteractive',\n",
              "                                                     [key], {});\n",
              "          if (!dataTable) return;\n",
              "\n",
              "          const docLinkHtml = 'Like what you see? Visit the ' +\n",
              "            '<a target=\"_blank\" href=https://colab.research.google.com/notebooks/data_table.ipynb>data table notebook</a>'\n",
              "            + ' to learn more about interactive tables.';\n",
              "          element.innerHTML = '';\n",
              "          dataTable['output_type'] = 'display_data';\n",
              "          await google.colab.output.renderOutput(dataTable, element);\n",
              "          const docLink = document.createElement('div');\n",
              "          docLink.innerHTML = docLinkHtml;\n",
              "          element.appendChild(docLink);\n",
              "        }\n",
              "      </script>\n",
              "    </div>\n",
              "  </div>\n",
              "  "
            ]
          },
          "metadata": {},
          "execution_count": 5
        }
      ],
      "source": [
        "X_train_pd = pd.DataFrame(X_train)\n",
        "\n",
        "# First 15 rows of our dataset.\n",
        "X_train_pd.head(15)"
      ]
    },
    {
      "cell_type": "markdown",
      "metadata": {
        "nbgrader": {
          "grade": false,
          "grade_id": "cell-98e7d91d77d65fcf",
          "locked": true,
          "schema_version": 2,
          "solution": false
        },
        "id": "2yPxSbvxLbjE"
      },
      "source": [
        "Methods `describe` and `info` deliver some useful information."
      ]
    },
    {
      "cell_type": "code",
      "execution_count": 6,
      "metadata": {
        "id": "Z26JOXD6LbjF",
        "outputId": "3e674da5-c3ae-425c-851f-33027388d006",
        "colab": {
          "base_uri": "https://localhost:8080/",
          "height": 300
        }
      },
      "outputs": [
        {
          "output_type": "execute_result",
          "data": {
            "text/plain": [
              "               0           1           2           3           4           5   \\\n",
              "count  549.000000  549.000000  549.000000  549.000000  549.000000  549.000000   \n",
              "mean   423.859745   93.608379   44.686703   81.659381  167.819672   61.391621   \n",
              "std    245.298225    8.386512    6.129400   15.803498   32.905282    7.320205   \n",
              "min      1.000000   73.000000   33.000000   40.000000  104.000000   48.000000   \n",
              "25%    215.000000   87.000000   40.000000   70.000000  140.000000   57.000000   \n",
              "50%    426.000000   93.000000   44.000000   79.000000  166.000000   61.000000   \n",
              "75%    638.000000  100.000000   49.000000   96.000000  193.000000   65.000000   \n",
              "max    843.000000  119.000000   58.000000  110.000000  333.000000  138.000000   \n",
              "\n",
              "               6           7           8           9           10          11  \\\n",
              "count  549.000000  549.000000  549.000000  549.000000  549.000000  549.000000   \n",
              "mean     8.304189  167.861566   41.173042   20.517304  147.311475  187.766849   \n",
              "std      3.903536   33.524299    7.920978    2.598106   14.273127   32.234320   \n",
              "min      3.000000  112.000000   26.000000   17.000000  118.000000  130.000000   \n",
              "25%      6.000000  145.000000   33.000000   19.000000  135.000000  167.000000   \n",
              "50%      8.000000  156.000000   43.000000   20.000000  146.000000  177.000000   \n",
              "75%     10.000000  197.000000   46.000000   23.000000  158.000000  215.000000   \n",
              "max     49.000000  265.000000   61.000000   29.000000  180.000000  320.000000   \n",
              "\n",
              "                12          13          14          15          16  \\\n",
              "count   549.000000  549.000000  549.000000  549.000000  549.000000   \n",
              "mean    435.606557  174.081967   72.240437    6.555556   12.431694   \n",
              "std     178.215685   33.147572    7.254782    4.922308    9.011417   \n",
              "min     184.000000  109.000000   60.000000    0.000000    0.000000   \n",
              "25%     314.000000  147.000000   67.000000    2.000000    5.000000   \n",
              "50%     363.000000  173.000000   71.000000    6.000000   11.000000   \n",
              "75%     579.000000  198.000000   75.000000   10.000000   19.000000   \n",
              "max    1018.000000  268.000000  135.000000   22.000000   41.000000   \n",
              "\n",
              "               17          18  \n",
              "count  549.000000  549.000000  \n",
              "mean   189.114754  195.743169  \n",
              "std      6.185952    7.430553  \n",
              "min    176.000000  181.000000  \n",
              "25%    185.000000  190.000000  \n",
              "50%    189.000000  197.000000  \n",
              "75%    193.000000  201.000000  \n",
              "max    206.000000  211.000000  "
            ],
            "text/html": [
              "\n",
              "  <div id=\"df-82295717-0e5e-47fa-8c0a-16510d708d7e\">\n",
              "    <div class=\"colab-df-container\">\n",
              "      <div>\n",
              "<style scoped>\n",
              "    .dataframe tbody tr th:only-of-type {\n",
              "        vertical-align: middle;\n",
              "    }\n",
              "\n",
              "    .dataframe tbody tr th {\n",
              "        vertical-align: top;\n",
              "    }\n",
              "\n",
              "    .dataframe thead th {\n",
              "        text-align: right;\n",
              "    }\n",
              "</style>\n",
              "<table border=\"1\" class=\"dataframe\">\n",
              "  <thead>\n",
              "    <tr style=\"text-align: right;\">\n",
              "      <th></th>\n",
              "      <th>0</th>\n",
              "      <th>1</th>\n",
              "      <th>2</th>\n",
              "      <th>3</th>\n",
              "      <th>4</th>\n",
              "      <th>5</th>\n",
              "      <th>6</th>\n",
              "      <th>7</th>\n",
              "      <th>8</th>\n",
              "      <th>9</th>\n",
              "      <th>10</th>\n",
              "      <th>11</th>\n",
              "      <th>12</th>\n",
              "      <th>13</th>\n",
              "      <th>14</th>\n",
              "      <th>15</th>\n",
              "      <th>16</th>\n",
              "      <th>17</th>\n",
              "      <th>18</th>\n",
              "    </tr>\n",
              "  </thead>\n",
              "  <tbody>\n",
              "    <tr>\n",
              "      <th>count</th>\n",
              "      <td>549.000000</td>\n",
              "      <td>549.000000</td>\n",
              "      <td>549.000000</td>\n",
              "      <td>549.000000</td>\n",
              "      <td>549.000000</td>\n",
              "      <td>549.000000</td>\n",
              "      <td>549.000000</td>\n",
              "      <td>549.000000</td>\n",
              "      <td>549.000000</td>\n",
              "      <td>549.000000</td>\n",
              "      <td>549.000000</td>\n",
              "      <td>549.000000</td>\n",
              "      <td>549.000000</td>\n",
              "      <td>549.000000</td>\n",
              "      <td>549.000000</td>\n",
              "      <td>549.000000</td>\n",
              "      <td>549.000000</td>\n",
              "      <td>549.000000</td>\n",
              "      <td>549.000000</td>\n",
              "    </tr>\n",
              "    <tr>\n",
              "      <th>mean</th>\n",
              "      <td>423.859745</td>\n",
              "      <td>93.608379</td>\n",
              "      <td>44.686703</td>\n",
              "      <td>81.659381</td>\n",
              "      <td>167.819672</td>\n",
              "      <td>61.391621</td>\n",
              "      <td>8.304189</td>\n",
              "      <td>167.861566</td>\n",
              "      <td>41.173042</td>\n",
              "      <td>20.517304</td>\n",
              "      <td>147.311475</td>\n",
              "      <td>187.766849</td>\n",
              "      <td>435.606557</td>\n",
              "      <td>174.081967</td>\n",
              "      <td>72.240437</td>\n",
              "      <td>6.555556</td>\n",
              "      <td>12.431694</td>\n",
              "      <td>189.114754</td>\n",
              "      <td>195.743169</td>\n",
              "    </tr>\n",
              "    <tr>\n",
              "      <th>std</th>\n",
              "      <td>245.298225</td>\n",
              "      <td>8.386512</td>\n",
              "      <td>6.129400</td>\n",
              "      <td>15.803498</td>\n",
              "      <td>32.905282</td>\n",
              "      <td>7.320205</td>\n",
              "      <td>3.903536</td>\n",
              "      <td>33.524299</td>\n",
              "      <td>7.920978</td>\n",
              "      <td>2.598106</td>\n",
              "      <td>14.273127</td>\n",
              "      <td>32.234320</td>\n",
              "      <td>178.215685</td>\n",
              "      <td>33.147572</td>\n",
              "      <td>7.254782</td>\n",
              "      <td>4.922308</td>\n",
              "      <td>9.011417</td>\n",
              "      <td>6.185952</td>\n",
              "      <td>7.430553</td>\n",
              "    </tr>\n",
              "    <tr>\n",
              "      <th>min</th>\n",
              "      <td>1.000000</td>\n",
              "      <td>73.000000</td>\n",
              "      <td>33.000000</td>\n",
              "      <td>40.000000</td>\n",
              "      <td>104.000000</td>\n",
              "      <td>48.000000</td>\n",
              "      <td>3.000000</td>\n",
              "      <td>112.000000</td>\n",
              "      <td>26.000000</td>\n",
              "      <td>17.000000</td>\n",
              "      <td>118.000000</td>\n",
              "      <td>130.000000</td>\n",
              "      <td>184.000000</td>\n",
              "      <td>109.000000</td>\n",
              "      <td>60.000000</td>\n",
              "      <td>0.000000</td>\n",
              "      <td>0.000000</td>\n",
              "      <td>176.000000</td>\n",
              "      <td>181.000000</td>\n",
              "    </tr>\n",
              "    <tr>\n",
              "      <th>25%</th>\n",
              "      <td>215.000000</td>\n",
              "      <td>87.000000</td>\n",
              "      <td>40.000000</td>\n",
              "      <td>70.000000</td>\n",
              "      <td>140.000000</td>\n",
              "      <td>57.000000</td>\n",
              "      <td>6.000000</td>\n",
              "      <td>145.000000</td>\n",
              "      <td>33.000000</td>\n",
              "      <td>19.000000</td>\n",
              "      <td>135.000000</td>\n",
              "      <td>167.000000</td>\n",
              "      <td>314.000000</td>\n",
              "      <td>147.000000</td>\n",
              "      <td>67.000000</td>\n",
              "      <td>2.000000</td>\n",
              "      <td>5.000000</td>\n",
              "      <td>185.000000</td>\n",
              "      <td>190.000000</td>\n",
              "    </tr>\n",
              "    <tr>\n",
              "      <th>50%</th>\n",
              "      <td>426.000000</td>\n",
              "      <td>93.000000</td>\n",
              "      <td>44.000000</td>\n",
              "      <td>79.000000</td>\n",
              "      <td>166.000000</td>\n",
              "      <td>61.000000</td>\n",
              "      <td>8.000000</td>\n",
              "      <td>156.000000</td>\n",
              "      <td>43.000000</td>\n",
              "      <td>20.000000</td>\n",
              "      <td>146.000000</td>\n",
              "      <td>177.000000</td>\n",
              "      <td>363.000000</td>\n",
              "      <td>173.000000</td>\n",
              "      <td>71.000000</td>\n",
              "      <td>6.000000</td>\n",
              "      <td>11.000000</td>\n",
              "      <td>189.000000</td>\n",
              "      <td>197.000000</td>\n",
              "    </tr>\n",
              "    <tr>\n",
              "      <th>75%</th>\n",
              "      <td>638.000000</td>\n",
              "      <td>100.000000</td>\n",
              "      <td>49.000000</td>\n",
              "      <td>96.000000</td>\n",
              "      <td>193.000000</td>\n",
              "      <td>65.000000</td>\n",
              "      <td>10.000000</td>\n",
              "      <td>197.000000</td>\n",
              "      <td>46.000000</td>\n",
              "      <td>23.000000</td>\n",
              "      <td>158.000000</td>\n",
              "      <td>215.000000</td>\n",
              "      <td>579.000000</td>\n",
              "      <td>198.000000</td>\n",
              "      <td>75.000000</td>\n",
              "      <td>10.000000</td>\n",
              "      <td>19.000000</td>\n",
              "      <td>193.000000</td>\n",
              "      <td>201.000000</td>\n",
              "    </tr>\n",
              "    <tr>\n",
              "      <th>max</th>\n",
              "      <td>843.000000</td>\n",
              "      <td>119.000000</td>\n",
              "      <td>58.000000</td>\n",
              "      <td>110.000000</td>\n",
              "      <td>333.000000</td>\n",
              "      <td>138.000000</td>\n",
              "      <td>49.000000</td>\n",
              "      <td>265.000000</td>\n",
              "      <td>61.000000</td>\n",
              "      <td>29.000000</td>\n",
              "      <td>180.000000</td>\n",
              "      <td>320.000000</td>\n",
              "      <td>1018.000000</td>\n",
              "      <td>268.000000</td>\n",
              "      <td>135.000000</td>\n",
              "      <td>22.000000</td>\n",
              "      <td>41.000000</td>\n",
              "      <td>206.000000</td>\n",
              "      <td>211.000000</td>\n",
              "    </tr>\n",
              "  </tbody>\n",
              "</table>\n",
              "</div>\n",
              "      <button class=\"colab-df-convert\" onclick=\"convertToInteractive('df-82295717-0e5e-47fa-8c0a-16510d708d7e')\"\n",
              "              title=\"Convert this dataframe to an interactive table.\"\n",
              "              style=\"display:none;\">\n",
              "        \n",
              "  <svg xmlns=\"http://www.w3.org/2000/svg\" height=\"24px\"viewBox=\"0 0 24 24\"\n",
              "       width=\"24px\">\n",
              "    <path d=\"M0 0h24v24H0V0z\" fill=\"none\"/>\n",
              "    <path d=\"M18.56 5.44l.94 2.06.94-2.06 2.06-.94-2.06-.94-.94-2.06-.94 2.06-2.06.94zm-11 1L8.5 8.5l.94-2.06 2.06-.94-2.06-.94L8.5 2.5l-.94 2.06-2.06.94zm10 10l.94 2.06.94-2.06 2.06-.94-2.06-.94-.94-2.06-.94 2.06-2.06.94z\"/><path d=\"M17.41 7.96l-1.37-1.37c-.4-.4-.92-.59-1.43-.59-.52 0-1.04.2-1.43.59L10.3 9.45l-7.72 7.72c-.78.78-.78 2.05 0 2.83L4 21.41c.39.39.9.59 1.41.59.51 0 1.02-.2 1.41-.59l7.78-7.78 2.81-2.81c.8-.78.8-2.07 0-2.86zM5.41 20L4 18.59l7.72-7.72 1.47 1.35L5.41 20z\"/>\n",
              "  </svg>\n",
              "      </button>\n",
              "      \n",
              "  <style>\n",
              "    .colab-df-container {\n",
              "      display:flex;\n",
              "      flex-wrap:wrap;\n",
              "      gap: 12px;\n",
              "    }\n",
              "\n",
              "    .colab-df-convert {\n",
              "      background-color: #E8F0FE;\n",
              "      border: none;\n",
              "      border-radius: 50%;\n",
              "      cursor: pointer;\n",
              "      display: none;\n",
              "      fill: #1967D2;\n",
              "      height: 32px;\n",
              "      padding: 0 0 0 0;\n",
              "      width: 32px;\n",
              "    }\n",
              "\n",
              "    .colab-df-convert:hover {\n",
              "      background-color: #E2EBFA;\n",
              "      box-shadow: 0px 1px 2px rgba(60, 64, 67, 0.3), 0px 1px 3px 1px rgba(60, 64, 67, 0.15);\n",
              "      fill: #174EA6;\n",
              "    }\n",
              "\n",
              "    [theme=dark] .colab-df-convert {\n",
              "      background-color: #3B4455;\n",
              "      fill: #D2E3FC;\n",
              "    }\n",
              "\n",
              "    [theme=dark] .colab-df-convert:hover {\n",
              "      background-color: #434B5C;\n",
              "      box-shadow: 0px 1px 3px 1px rgba(0, 0, 0, 0.15);\n",
              "      filter: drop-shadow(0px 1px 2px rgba(0, 0, 0, 0.3));\n",
              "      fill: #FFFFFF;\n",
              "    }\n",
              "  </style>\n",
              "\n",
              "      <script>\n",
              "        const buttonEl =\n",
              "          document.querySelector('#df-82295717-0e5e-47fa-8c0a-16510d708d7e button.colab-df-convert');\n",
              "        buttonEl.style.display =\n",
              "          google.colab.kernel.accessAllowed ? 'block' : 'none';\n",
              "\n",
              "        async function convertToInteractive(key) {\n",
              "          const element = document.querySelector('#df-82295717-0e5e-47fa-8c0a-16510d708d7e');\n",
              "          const dataTable =\n",
              "            await google.colab.kernel.invokeFunction('convertToInteractive',\n",
              "                                                     [key], {});\n",
              "          if (!dataTable) return;\n",
              "\n",
              "          const docLinkHtml = 'Like what you see? Visit the ' +\n",
              "            '<a target=\"_blank\" href=https://colab.research.google.com/notebooks/data_table.ipynb>data table notebook</a>'\n",
              "            + ' to learn more about interactive tables.';\n",
              "          element.innerHTML = '';\n",
              "          dataTable['output_type'] = 'display_data';\n",
              "          await google.colab.output.renderOutput(dataTable, element);\n",
              "          const docLink = document.createElement('div');\n",
              "          docLink.innerHTML = docLinkHtml;\n",
              "          element.appendChild(docLink);\n",
              "        }\n",
              "      </script>\n",
              "    </div>\n",
              "  </div>\n",
              "  "
            ]
          },
          "metadata": {},
          "execution_count": 6
        }
      ],
      "source": [
        "X_train_pd.describe()"
      ]
    },
    {
      "cell_type": "code",
      "execution_count": 22,
      "metadata": {
        "id": "MfIs781gLbjF",
        "outputId": "8bdb674f-05d8-437c-d614-22654085bf15",
        "colab": {
          "base_uri": "https://localhost:8080/"
        }
      },
      "outputs": [
        {
          "output_type": "stream",
          "name": "stdout",
          "text": [
            "<class 'pandas.core.frame.DataFrame'>\n",
            "RangeIndex: 549 entries, 0 to 548\n",
            "Data columns (total 19 columns):\n",
            " #   Column  Non-Null Count  Dtype\n",
            "---  ------  --------------  -----\n",
            " 0   0       549 non-null    int64\n",
            " 1   1       549 non-null    int64\n",
            " 2   2       549 non-null    int64\n",
            " 3   3       549 non-null    int64\n",
            " 4   4       549 non-null    int64\n",
            " 5   5       549 non-null    int64\n",
            " 6   6       549 non-null    int64\n",
            " 7   7       549 non-null    int64\n",
            " 8   8       549 non-null    int64\n",
            " 9   9       549 non-null    int64\n",
            " 10  10      549 non-null    int64\n",
            " 11  11      549 non-null    int64\n",
            " 12  12      549 non-null    int64\n",
            " 13  13      549 non-null    int64\n",
            " 14  14      549 non-null    int64\n",
            " 15  15      549 non-null    int64\n",
            " 16  16      549 non-null    int64\n",
            " 17  17      549 non-null    int64\n",
            " 18  18      549 non-null    int64\n",
            "dtypes: int64(19)\n",
            "memory usage: 81.6 KB\n"
          ]
        }
      ],
      "source": [
        "X_train_pd.info()"
      ]
    },
    {
      "cell_type": "markdown",
      "metadata": {
        "nbgrader": {
          "grade": false,
          "grade_id": "cell-be844269be69c387",
          "locked": true,
          "schema_version": 2,
          "solution": false
        },
        "id": "SU3EDbbWLbjF"
      },
      "source": [
        "### 2. Machine Learning pipeline\n",
        "Here you are supposed to perform the desired transformations. Please, explain your results briefly after each task."
      ]
    },
    {
      "cell_type": "markdown",
      "metadata": {
        "id": "Mnm2e_MuLbjF"
      },
      "source": [
        "#### 2.0. Data preprocessing\n",
        "* Make some transformations of the dataset (if necessary). Briefly explain the transformations"
      ]
    },
    {
      "cell_type": "code",
      "execution_count": 21,
      "metadata": {
        "nbgrader": {
          "grade": true,
          "grade_id": "cell-a1514aa189a49fca",
          "locked": false,
          "points": 15,
          "schema_version": 2,
          "solution": true
        },
        "id": "oxeRe6mmLbjG"
      },
      "outputs": [],
      "source": [
        "### YOUR CODE HERE\n",
        "\n",
        "from sklearn.preprocessing import StandardScaler\n",
        "\n",
        "# Standardize the data\n",
        "scaler = StandardScaler()\n",
        "X_train_scaled = scaler.fit_transform(X_train)\n",
        "X_test_scaled = scaler.fit_transform(X_test)"
      ]
    },
    {
      "cell_type": "markdown",
      "metadata": {
        "id": "P1WfY4etLbjG"
      },
      "source": [
        "#### 2.1. Basic logistic regression\n",
        "* Find optimal hyperparameters for logistic regression with cross-validation on the `train` data (small grid/random search is enough, no need to find the *best* parameters).\n",
        "\n",
        "* Estimate the model quality with `f1` and `accuracy` scores.\n",
        "* Plot a ROC-curve for the trained model. For the multiclass case you might use `scikitplot` library (e.g. `scikitplot.metrics.plot_roc(test_labels, predicted_proba)`).\n",
        "\n",
        "*Note: please, use the following hyperparameters for logistic regression: `multi_class='multinomial'`, `solver='saga'` `tol=1e-3` and ` max_iter=500`.*"
      ]
    },
    {
      "cell_type": "code",
      "execution_count": 20,
      "metadata": {
        "nbgrader": {
          "grade": true,
          "grade_id": "cell-1dd5ad5d0845cbbb",
          "locked": false,
          "points": 5,
          "schema_version": 2,
          "solution": true
        },
        "id": "pqqEhDDFLbjG",
        "colab": {
          "base_uri": "https://localhost:8080/",
          "height": 364
        },
        "outputId": "58e03610-9059-41a8-a9fb-c84753d2eb39"
      },
      "outputs": [
        {
          "output_type": "stream",
          "name": "stdout",
          "text": [
            "The best parameters are {'C': 11.288378916846883, 'l1_ratio': 1.0, 'penalty': 'elasticnet'}\n",
            "F1 score of this model: 0.7673959782588533\n",
            "Accuracy score of this model: 0.7710437710437711\n",
            "\n"
          ]
        },
        {
          "output_type": "display_data",
          "data": {
            "text/plain": [
              "<Figure size 432x288 with 1 Axes>"
            ],
            "image/png": "[encoded data removed]"
          },
          "metadata": {
            "needs_background": "light"
          }
        }
      ],
      "source": [
        "### YOUR CODE HERE\n",
        "\n",
        "# Install scikit-plot\n",
        "# ! pip install scikit-plot\n",
        "\n",
        "from sklearn.linear_model import LogisticRegression\n",
        "from sklearn.model_selection import GridSearchCV\n",
        "from sklearn.metrics import f1_score\n",
        "import scikitplot\n",
        "import numpy as np\n",
        "import matplotlib.pyplot as plt\n",
        "import warnings\n",
        "\n",
        "model = LogisticRegression(multi_class='multinomial', solver='saga', tol=1e-3, max_iter=500)\n",
        "\n",
        "param_grid = {'C': np.logspace(-4, 4, 20), 'l1_ratio': np.linspace(0, 1, 11), 'penalty' :['elasticnet']}\n",
        "\n",
        "search = GridSearchCV(model, param_grid, cv=5).fit(X_train_scaled, y_train)\n",
        "\n",
        "y_predicted = search.predict(X_test_scaled)\n",
        "\n",
        "print(f\"The best parameters are {search.best_params_}\")\n",
        "print(f\"F1 score of this model: {f1_score(y_test, y_predicted, average='macro')}\")\n",
        "print(f\"Accuracy score of this model: {search.score(X_test_scaled, y_test)}\\n\")\n",
        "    \n",
        "# Plot the ROC-curve\n",
        "predicted_proba = search.predict_proba(X_test_scaled)\n",
        "scikitplot.metrics.plot_roc(y_test, predicted_proba)\n",
        "plt.show()"
      ]
    },
    {
      "cell_type": "markdown",
      "metadata": {
        "id": "2Ge9mmARLbjH"
      },
      "source": [
        "#### 2.2. PCA: explained variance plot\n",
        "* Apply the PCA to the train part of the data. Build the explaided variance plot. "
      ]
    },
    {
      "cell_type": "code",
      "execution_count": 29,
      "metadata": {
        "nbgrader": {
          "grade": true,
          "grade_id": "cell-c6c614740bce090e",
          "locked": false,
          "points": 10,
          "schema_version": 2,
          "solution": true
        },
        "id": "zrUo3dYVLbjH",
        "colab": {
          "base_uri": "https://localhost:8080/",
          "height": 297
        },
        "outputId": "53422b5d-2143-48fb-d9db-e716126ce928"
      },
      "outputs": [
        {
          "output_type": "display_data",
          "data": {
            "text/plain": [
              "<Figure size 432x288 with 1 Axes>"
            ],
            "image/png": "[encoded data removed]"
          },
          "metadata": {
            "needs_background": "light"
          }
        }
      ],
      "source": [
        "### YOUR CODE HERE\n",
        "from numpy.linalg import eigh\n",
        "import matplotlib.pyplot as plt\n",
        "\n",
        "egnvalues, egnvectors = eigh(np.cov(X_train_scaled, rowvar=False))\n",
        "# Explained variance\n",
        "exp_var = [(i/sum(egnvalues)) for i in sorted(egnvalues, reverse=True)]\n",
        "# Cumulative sum of eigenvalues\n",
        "cum_sum_eigenvalues = np.cumsum(exp_var)\n",
        "# Create the plot\n",
        "plt.bar(range(0,len(exp_var)), exp_var, alpha=0.5, align='center', label='Individual explained variance')\n",
        "plt.step(range(0,len(cum_sum_eigenvalues)), cum_sum_eigenvalues, where='mid',label='Cumulative explained variance')\n",
        "plt.ylabel('Explained variance ratio')\n",
        "plt.xlabel('Principal component index')\n",
        "plt.legend(loc='best')\n",
        "plt.tight_layout()\n",
        "plt.show()"
      ]
    },
    {
      "cell_type": "markdown",
      "metadata": {
        "nbgrader": {
          "grade": false,
          "grade_id": "cell-0c1fe666f52fe53c",
          "locked": true,
          "schema_version": 2,
          "solution": false
        },
        "id": "rTvCHy3qLbjH"
      },
      "source": [
        "#### 2.3. PCA trasformation\n",
        "* Select the appropriate number of components. Briefly explain your choice. Should you normalize the data?\n",
        "\n",
        "*Use `fit` and `transform` methods to transform the `train` and `test` parts.*"
      ]
    },
    {
      "cell_type": "code",
      "execution_count": 28,
      "metadata": {
        "nbgrader": {
          "grade": true,
          "grade_id": "cell-96ab18d96473ef71",
          "locked": false,
          "points": 5,
          "schema_version": 2,
          "solution": true
        },
        "id": "1fuuxpvrLbjH"
      },
      "outputs": [],
      "source": [
        "### YOUR CODE HERE"
      ]
    },
    {
      "cell_type": "markdown",
      "metadata": {
        "id": "KJqDA7wTLbjH"
      },
      "source": [
        "**Note: From this point `sklearn` [Pipeline](https://scikit-learn.org/stable/modules/compose.html) might be useful to perform transformations on the data. Refer to the [docs](https://scikit-learn.org/stable/modules/generated/sklearn.pipeline.Pipeline.html) for more information.**"
      ]
    },
    {
      "cell_type": "markdown",
      "metadata": {
        "nbgrader": {
          "grade": false,
          "grade_id": "cell-d28b58a35c94e988",
          "locked": true,
          "schema_version": 2,
          "solution": false
        },
        "id": "TaZAqebgLbjH"
      },
      "source": [
        "#### 2.4. Logistic regression on PCA-preprocessed data.\n",
        "* Find optimal hyperparameters for logistic regression with cross-validation on the transformed by PCA `train` data.\n",
        "\n",
        "* Estimate the model quality with `f1` and `accuracy` scores.\n",
        "* Plot a ROC-curve for the trained model. For the multiclass case you might use `scikitplot` library (e.g. `scikitplot.metrics.plot_roc(test_labels, predicted_proba)`).\n",
        "\n",
        "*Note: please, use the following hyperparameters for logistic regression: `multi_class='multinomial'`, `solver='saga'` and `tol=1e-3`*"
      ]
    },
    {
      "cell_type": "code",
      "execution_count": 32,
      "metadata": {
        "nbgrader": {
          "grade": true,
          "grade_id": "cell-12d53ea45258fa82",
          "locked": false,
          "points": 5,
          "schema_version": 2,
          "solution": true
        },
        "id": "PeljRE4JLbjH",
        "colab": {
          "base_uri": "https://localhost:8080/",
          "height": 382
        },
        "outputId": "e2d8e023-f6d6-4186-ee31-2cae4d397511"
      },
      "outputs": [
        {
          "output_type": "stream",
          "name": "stdout",
          "text": [
            "The best parameters are {'C': 0.08858667904100823, 'l1_ratio': 0.0, 'penalty': 'elasticnet'}\n",
            "F1 score of this model: 0.6165648476834482\n",
            "Accuracy score of this model: 0.6296296296296297\n",
            "\n",
            "\n"
          ]
        },
        {
          "output_type": "display_data",
          "data": {
            "text/plain": [
              "<Figure size 432x288 with 1 Axes>"
            ],
            "image/png": "[encoded data removed]"
          },
          "metadata": {
            "needs_background": "light"
          }
        }
      ],
      "source": [
        "### YOUR CODE HERE\n",
        "\n",
        "from sklearn.decomposition import PCA\n",
        "\n",
        "pca = PCA()\n",
        "\n",
        "X_train_fit = pca.fit_transform(X_train)\n",
        "X_test_fit = pca.fit_transform(X_test)\n",
        "\n",
        "model = LogisticRegression(multi_class='multinomial', solver='saga', tol=1e-3, max_iter=500)\n",
        "param_grid = {'C': np.logspace(-4, 4, 20), 'l1_ratio': np.linspace(0, 1, 11), 'penalty' :['elasticnet']}\n",
        "search = GridSearchCV(model, param_grid, cv=5).fit(X_train_fit, y_train)\n",
        "y_predicted = search.predict(X_test_fit)\n",
        "\n",
        "print(f\"The best parameters are {search.best_params_}\")\n",
        "print(f\"F1 score of this model: {f1_score(y_test, y_predicted, average='macro')}\")\n",
        "print(f\"Accuracy score of this model: {search.score(X_test_fit, y_test)}\\n\")\n",
        "\n",
        "# Plot the ROC-curve\n",
        "predicted_proba = search.predict_proba(X_test_fit)\n",
        "scikitplot.metrics.plot_roc(y_test, predicted_proba)\n",
        "plt.show()"
      ]
    },
    {
      "cell_type": "markdown",
      "metadata": {
        "nbgrader": {
          "grade": false,
          "grade_id": "cell-4fbf16c64076e139",
          "locked": true,
          "schema_version": 2,
          "solution": false
        },
        "id": "7d60rc7pLbjI"
      },
      "source": [
        "#### 2.5. Decision tree\n",
        "* Now train a desicion tree on the same data. Find optimal tree depth (`max_depth`) using cross-validation.\n",
        "\n",
        "* Measure the model quality using the same metrics you used above."
      ]
    },
    {
      "cell_type": "code",
      "execution_count": 72,
      "metadata": {
        "nbgrader": {
          "grade": true,
          "grade_id": "cell-748ed20b51c67fab",
          "locked": false,
          "points": 15,
          "schema_version": 2,
          "solution": true
        },
        "id": "LJB7iheYLbjI",
        "colab": {
          "base_uri": "https://localhost:8080/",
          "height": 382
        },
        "outputId": "55acc7f5-57b9-4d93-c302-c6ef3248b1f1"
      },
      "outputs": [
        {
          "output_type": "stream",
          "name": "stdout",
          "text": [
            "The best parameters are: {'criterion': 'entropy', 'max_depth': 24}\n",
            "The max_depth is 24\n",
            "F1 score: 0.6652791478979981\n",
            "Accuracy score: 0.6632996632996633\n",
            "\n"
          ]
        },
        {
          "output_type": "display_data",
          "data": {
            "text/plain": [
              "<Figure size 432x288 with 1 Axes>"
            ],
            "image/png": "[encoded data removed]"
          },
          "metadata": {
            "needs_background": "light"
          }
        }
      ],
      "source": [
        "from sklearn.tree import DecisionTreeClassifier\n",
        "\n",
        "# YOUR CODE HERE\n",
        "\n",
        "dtc = DecisionTreeClassifier()\n",
        "\n",
        "search = GridSearchCV(\n",
        "    dtc, \n",
        "    {\n",
        "      \"max_depth\": np.linspace(1, 32, 32, dtype=np.int16),\n",
        "      'criterion': [\"gini\", \"entropy\"]\n",
        "    },\n",
        "    cv=5).fit(X_train_scaled, y_train)\n",
        "\n",
        "y_predicted = search.predict(X_test_scaled)\n",
        "\n",
        "print(f\"The best parameters are: {search.best_params_}\")\n",
        "print(f\"The max_depth is {search.best_params_['max_depth']}\")\n",
        "print(f\"F1 score: {f1_score(y_test, y_predicted, average='macro')}\")\n",
        "print(f\"Accuracy score: {search.score(X_test_scaled, y_test)}\\n\")\n",
        "\n",
        "# Plot the ROC-curve\n",
        "predicted_proba = search.predict_proba(X_test_scaled)\n",
        "scikitplot.metrics.plot_roc(y_test, predicted_proba)\n",
        "plt.show()"
      ]
    },
    {
      "cell_type": "markdown",
      "metadata": {
        "nbgrader": {
          "grade": false,
          "grade_id": "cell-9eadd4d8a03ae67a",
          "locked": true,
          "schema_version": 2,
          "solution": false
        },
        "id": "0yZZXRVpLbjI"
      },
      "source": [
        "#### 2.6. Bagging.\n",
        "Here starts the ensembling part.\n",
        "\n",
        "First we will use the __Bagging__ approach. Build an ensemble of $N$ algorithms varying N from $N_{min}=2$ to $N_{max}=100$ (with step 5).\n",
        "\n",
        "We will build two ensembles: of logistic regressions and of decision trees.\n",
        "\n",
        "*Comment: each ensemble should be constructed from models of the same family, so logistic regressions should not be mixed up with decision trees.*\n",
        "\n",
        "\n",
        "*Hint 1: To build a __Bagging__ ensebmle varying the ensemble size efficiently you might generate $N_{max}$ subsets of `train` data (of the same size as the original dataset) using bootstrap procedure once. Then you train a new instance of logistic regression/decision tree with optimal hyperparameters you estimated before on each subset (so you train it from scratch). Finally, to get an ensemble of $N$ models you average the $N$ out of $N_{max}$ models predictions.*\n",
        "\n",
        "*Hint 2: sklearn might help you with this taks. Some appropriate function/class might be out there.*\n",
        "\n",
        "* Plot `f1` and `accuracy` scores plots w.r.t. the size of the ensemble.\n",
        "\n",
        "* Briefly analyse the plot. What is the optimal number of algorithms? Explain your answer.\n",
        "\n",
        "* How do you think, are the hyperparameters for the decision trees you found in 2.5 optimal for trees used in ensemble? "
      ]
    },
    {
      "cell_type": "code",
      "execution_count": null,
      "metadata": {
        "nbgrader": {
          "grade": true,
          "grade_id": "cell-8fc95a2b206bdae1",
          "locked": false,
          "points": 35,
          "schema_version": 2,
          "solution": true
        },
        "id": "GEnUR_13LbjI"
      },
      "outputs": [],
      "source": [
        "# YOUR CODE HERE"
      ]
    },
    {
      "cell_type": "code",
      "execution_count": null,
      "metadata": {
        "id": "GrHBUnUzLbjI"
      },
      "outputs": [],
      "source": []
    },
    {
      "cell_type": "markdown",
      "metadata": {
        "nbgrader": {
          "grade": false,
          "grade_id": "cell-241b7691ab44cbfb",
          "locked": true,
          "schema_version": 2,
          "solution": false
        },
        "id": "7KCsfbGULbjI"
      },
      "source": [
        "#### 2.7. Random Forest\n",
        "Now we will work with the Random Forest (its `sklearn` implementation).\n",
        "\n",
        "* * Plot `f1` and `accuracy` scores plots w.r.t. the number of trees in Random Forest.\n",
        "\n",
        "* What is the optimal number of trees you've got? Is it different from the optimal number of logistic regressions/decision trees in 2.6? Explain the results briefly."
      ]
    },
    {
      "cell_type": "code",
      "execution_count": null,
      "metadata": {
        "nbgrader": {
          "grade": true,
          "grade_id": "cell-888755d0f3d91620",
          "locked": false,
          "points": 15,
          "schema_version": 2,
          "solution": true
        },
        "id": "NBC2IWM-LbjJ"
      },
      "outputs": [],
      "source": [
        "from sklearn.ensemble import RandomForestClassifier\n",
        "\n",
        "# YOUR CODE HERE"
      ]
    },
    {
      "cell_type": "markdown",
      "metadata": {
        "nbgrader": {
          "grade": false,
          "grade_id": "cell-99191c0852538d4d",
          "locked": true,
          "schema_version": 2,
          "solution": false
        },
        "id": "P4-CvTDpLbjJ"
      },
      "source": [
        "#### 2.8. Learning curve\n",
        "Your goal is to estimate, how does the model behaviour change with the increase of the `train` dataset size.\n",
        "\n",
        "* Split the training data into 10 equal (almost) parts. Then train the models from above (Logistic regression, Desicion Tree, Random Forest) with optimal hyperparameters you have selected on 1 part, 2 parts (combined, so the train size in increased by 2 times), 3 parts and so on.\n",
        "\n",
        "* Build a plot of `accuracy` and `f1` scores on `test` part, varying the `train` dataset size (so the axes will be score - dataset size.\n",
        "\n",
        "* Analyse the final plot. Can you make any conlusions using it? "
      ]
    },
    {
      "cell_type": "code",
      "execution_count": 74,
      "metadata": {
        "nbgrader": {
          "grade": true,
          "grade_id": "cell-e39bc7e7dff61ff9",
          "locked": false,
          "points": 15,
          "schema_version": 2,
          "solution": true
        },
        "id": "dwQQ6LrBLbjJ",
        "colab": {
          "base_uri": "https://localhost:8080/",
          "height": 517
        },
        "outputId": "50c528d1-8403-46b3-c295-786da35c33e4"
      },
      "outputs": [
        {
          "output_type": "display_data",
          "data": {
            "text/plain": [
              "<Figure size 864x576 with 1 Axes>"
            ],
            "image/png": "[encoded data removed]"
          },
          "metadata": {
            "needs_background": "light"
          }
        }
      ],
      "source": [
        "# YOUR CODE HERE\n",
        "\n",
        "SIZE = 10\n",
        "\n",
        "def get_accuracy_and_score():\n",
        "  accuracy_score = np.zeros(SIZE)\n",
        "  f1_test_score = np.zeros(SIZE)\n",
        "\n",
        "  logisticReg = LogisticRegression(multi_class='multinomial', solver='saga', tol=1e-3, max_iter=500, C=0.6158, l1_ratio=0.9, penalty='elasticnet')\n",
        "\n",
        "  for i in range(SIZE):\n",
        "      data_size = int(X_train.shape[0] * (i + 1) / 10)\n",
        "      model = logisticReg.fit(X_train_scaled[:data_size], y_train[:data_size])\n",
        "      accuracy_score[i] = model.score(X_test_scaled, y_test)\n",
        "      y_predicted = model.predict(X_test_scaled)\n",
        "      f1_test_score[i] = f1_score(y_test, y_predicted, average='macro')\n",
        "    \n",
        "  return accuracy_score, f1_test_score\n",
        "\n",
        "accuracy_score, f1_test_score = get_accuracy_and_score()\n",
        "\n",
        "# Create plot\n",
        "plt.figure(figsize=(12, 8))\n",
        "plt.xlabel(\"Data size\", fontsize=14)\n",
        "plt.ylabel(\"Score\", fontsize=14)\n",
        "plt.plot(np.arange(SIZE), accuracy_score, label='accuracy score')\n",
        "plt.plot(np.arange(SIZE), f1_test_score, label='f1 score')\n",
        "plt.ylim(0.5, 1)\n",
        "plt.title(\"Scores for Logistic Regression with dataset sizes\")\n",
        "plt.show()"
      ]
    }
  ],
  "metadata": {
    "celltoolbar": "Create Assignment",
    "kernelspec": {
      "display_name": "Py3 Research",
      "language": "python",
      "name": "py3_research_kernel"
    },
    "language_info": {
      "codemirror_mode": {
        "name": "ipython",
        "version": 3
      },
      "file_extension": ".py",
      "mimetype": "text/x-python",
      "name": "python",
      "nbconvert_exporter": "python",
      "pygments_lexer": "ipython3",
      "version": "3.9.7"
    },
    "toc": {
      "base_numbering": 1,
      "nav_menu": {},
      "number_sections": false,
      "sideBar": true,
      "skip_h1_title": false,
      "title_cell": "Table of Contents",
      "title_sidebar": "Contents",
      "toc_cell": false,
      "toc_position": {},
      "toc_section_display": true,
      "toc_window_display": false
    },
    "colab": {
      "provenance": [],
      "collapsed_sections": [
        "Mnm2e_MuLbjF",
        "P1WfY4etLbjG",
        "TaZAqebgLbjH",
        "7d60rc7pLbjI"
      ]
    }
  },
  "nbformat": 4,
  "nbformat_minor": 0
}