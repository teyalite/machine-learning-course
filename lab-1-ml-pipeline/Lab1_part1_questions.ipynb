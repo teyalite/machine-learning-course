{
  "cells": [
    {
      "cell_type": "markdown",
      "metadata": {
        "id": "0qbIibPXPvlC"
      },
      "source": [
        "*Credits: materials from this notebook belong to YSDA [Practical DL](https://github.com/yandexdataschool/Practical_DL) course. Special thanks for making them available online.*"
      ]
    },
    {
      "cell_type": "markdown",
      "metadata": {
        "id": "FOmQsf8oPvlD"
      },
      "source": [
        "# Lab assignment №1, part 1\n",
        "\n",
        "This lab assignment consists of several parts. You are supposed to make some transformations, train some models, estimate the quality of the models and explain your results.\n",
        "\n",
        "Several comments:\n",
        "* Don't hesitate to ask questions, it's a good practice.\n",
        "* No private/public sharing, please. The copied assignments will be graded with 0 points.\n",
        "* Blocks of this lab will be graded separately."
      ]
    },
    {
      "cell_type": "markdown",
      "metadata": {
        "id": "NSsD-s8_PvlD"
      },
      "source": [
        "## 1. Matrix differentiation"
      ]
    },
    {
      "cell_type": "markdown",
      "metadata": {
        "id": "hE6Z8uh1PvlE"
      },
      "source": [
        "Since it easy to google every task please please please try to undestand what's going on. The \"just answer\" thing will be not counted, make sure to present derivation of your solution. It is absolutely OK if you found an answer on web then just exercise in $\\LaTeX$ copying it into here."
      ]
    },
    {
      "cell_type": "markdown",
      "metadata": {
        "id": "i3H4oOROPvlE"
      },
      "source": [
        "Useful links: \n",
        "[1](http://www.machinelearning.ru/wiki/images/2/2a/Matrix-Gauss.pdf)\n",
        "[2](http://www.atmos.washington.edu/~dennis/MatrixCalculus.pdf)"
      ]
    },
    {
      "cell_type": "markdown",
      "metadata": {
        "id": "9GoIxGuzPvlE"
      },
      "source": [
        "## ex. 1"
      ]
    },
    {
      "cell_type": "markdown",
      "metadata": {
        "id": "oH_ynVPsPvlE"
      },
      "source": [
        "$$  \n",
        "y = x^Tx,  \\quad x \\in \\mathbb{R}^N \n",
        "$$"
      ]
    },
    {
      "cell_type": "markdown",
      "metadata": {
        "id": "6bjzXqbaPvlE"
      },
      "source": [
        "$$\n",
        "\\frac{dy}{dx} = 2x\n",
        "$$ "
      ]
    },
    {
      "cell_type": "markdown",
      "source": [
        "### Explanation\n",
        "$$\n",
        "Assume: \\quad x = (x_{1}, x_{2}, ..., x_{N})\n",
        "$$\n",
        "\n",
        "$$\n",
        " \\sum_{i = j = 1}^{+\\infty} \\ x_{i}*x_{j} = (x_1*x_1 + x_2*x_2 +...)  = (x_1^2 + x_2^2 + ...) \\\\\n",
        "\\frac{dy}{dx} = (2x_1 + 2x_2 + ... ) = 2(x_1 + x_2 +...) = 2x \n",
        "$$ "
      ],
      "metadata": {
        "id": "YtGg7qh5QSvy"
      }
    },
    {
      "cell_type": "markdown",
      "metadata": {
        "id": "Xe1UvGqIPvlF"
      },
      "source": [
        "## ex. 2"
      ]
    },
    {
      "cell_type": "markdown",
      "metadata": {
        "id": "1X80z5MqPvlF"
      },
      "source": [
        "$$ y = tr(AB) \\quad A,B \\in \\mathbb{R}^{N \\times N} $$ "
      ]
    },
    {
      "cell_type": "markdown",
      "metadata": {
        "id": "s25FrzKgPvlF"
      },
      "source": [
        "$$\n",
        "\\frac{dy}{dA} = B^T\n",
        "$$"
      ]
    },
    {
      "cell_type": "markdown",
      "source": [
        "### Explanation\n",
        "\n",
        "$$\n",
        "trAB = \\sum_{i=1}^Na_{1i}b_{i1} + \\sum_{i=1}^Na_{2i}b_{i2} + ... + \\sum_{i=1}^Na_{Ni}b_{iN}\n",
        "$$\n",
        "<br/>\n",
        "$$\n",
        "\\frac{\\partial tr(AB)}{\\partial a_{ij}} = bji\n",
        "$$\n",
        "<br/>\n",
        "$$\n",
        "\\frac{dy}{dA} = B^T\n",
        "$$\n",
        "<br/>"
      ],
      "metadata": {
        "id": "OscrG3RORNXT"
      }
    },
    {
      "cell_type": "markdown",
      "metadata": {
        "id": "ywU15_VfPvlF"
      },
      "source": [
        "## ex. 3"
      ]
    },
    {
      "cell_type": "markdown",
      "metadata": {
        "id": "lvcjDwYiPvlF"
      },
      "source": [
        "$$  \n",
        "y = x^TAc , \\quad A\\in \\mathbb{R}^{N \\times N}, x\\in \\mathbb{R}^{N}, c\\in \\mathbb{R}^{N} \n",
        "$$"
      ]
    },
    {
      "cell_type": "markdown",
      "metadata": {
        "id": "TLTfBVQWPvlG"
      },
      "source": [
        "$$\n",
        "\\frac{dy}{dx} = x^T*A^T\n",
        "$$"
      ]
    },
    {
      "cell_type": "markdown",
      "metadata": {
        "id": "eSnTYRS4PvlG"
      },
      "source": [
        "$$\n",
        "\\frac{dy}{dA} = xc^T\n",
        "$$ "
      ]
    },
    {
      "cell_type": "markdown",
      "metadata": {
        "id": "zCuiB7NwPvlG"
      },
      "source": [
        "### Explanation\n",
        "First: [Source 2](http://www.atmos.washington.edu/~dennis/MatrixCalculus.pdf) Proposition 7\n",
        "<br/>\n",
        "Second: [Source 1](http://www.machinelearning.ru/wiki/images/2/2a/Matrix-Gauss.pdf) First page Производные"
      ]
    },
    {
      "cell_type": "markdown",
      "metadata": {
        "id": "EdR6VXc-PvlG"
      },
      "source": [
        "## ex. 4"
      ]
    },
    {
      "cell_type": "markdown",
      "metadata": {
        "id": "dTOf9-pCPvlG"
      },
      "source": [
        "Classic matrix factorization example. Given matrix $X$ you need to find $A$, $S$ to approximate $X$. This can be done by simple gradient descent iteratively alternating $A$ and $S$ updates.\n",
        "$$\n",
        "J = || X - AS ||_F^2  , \\quad A\\in \\mathbb{R}^{N \\times R} , \\quad S\\in \\mathbb{R}^{R \\times M}\n",
        "$$\n",
        "$$\n",
        "\\frac{dJ}{dS} = ? \n",
        "$$\n"
      ]
    },
    {
      "cell_type": "markdown",
      "metadata": {
        "id": "S8MBWwWRPvlG"
      },
      "source": [
        "\n",
        "### Explanation\n",
        "$$\n",
        "|| X ||_F^2 = tr(XX^T) \n",
        "$$ \n",
        "<br/>\n",
        "$$ \n",
        "J = || X - AS ||_F^2 \n",
        "$$\n",
        "$$ J = tr((X - AS)(X - AS)^T) $$\n",
        "$$ J = tr((X - AS)(X^T-S^TA^T) $$\n",
        "$$ J = Tr(XX^T - XS^TA^T - ASX^T + ASS^TA^T)$$\n",
        "<br/>\n",
        "$$\n",
        "Tr(A + B) = Tr(A) + Tr(B)\n",
        "$$\n",
        "<br/>\n",
        "$$\n",
        "Tr(XX^T - XS^TA^T - ASX^T + ASS^TA^T) = Tr(XX^T) - Tr(XS^TA^T) - Tr(ASX^T) + Tr(ASS^TA^T) \n",
        "$$\n",
        "<br/>\n",
        "$$ Assume \\ P = AS $$\n",
        "<br/>\n",
        "$$ J = tr(XX^T -PX^T - XP^T + PP^T) $$ \n",
        "<br/>\n",
        "$$ \\frac{dJ}{dP} = -2 \\frac{d(tr(PX^T))}{dP} + \\frac{d(tr(PP^T))}{dP} = 2(P - X) $$\n",
        "<br/>\n",
        "$$\\frac{dP}{dS} = \\frac{d(AS)}{dS} = \\frac{d(S^TA^T)}{dS} = A^T$$\n",
        "<br/>\n",
        "$$\\frac{dJ}{dS} = \\frac{dJ}{dP}\\frac{dP}{dS} $$\n",
        "<br/>\n",
        "$$\\frac{dJ}{dS} = 2(P - X)A^T $$\n",
        "<br/>\n",
        "<br/>\n",
        "$$\\frac{dJ}{dS} = 2(ASA^T - XA^T)$$\n",
        "\n",
        "\n"
      ]
    },
    {
      "cell_type": "markdown",
      "metadata": {
        "collapsed": true,
        "jupyter": {
          "outputs_hidden": true
        },
        "id": "-2uE5BePPvlH"
      },
      "source": [
        "## 2. kNN questions\n",
        "Here come the questions from the assignment0_01. Please, refer to the assignment0_01 to get the context of the questions."
      ]
    },
    {
      "cell_type": "markdown",
      "metadata": {
        "id": "vPE9z1LKPvlH"
      },
      "source": [
        "### Question 1\n",
        "\n",
        "Notice the structured patterns in the distance matrix, where some rows or columns are visible brighter. (Note that with the default color scheme black indicates low distances while white indicates high distances.)\n",
        "\n",
        "- What in the data is the cause behind the distinctly bright rows?\n",
        "- What causes the columns?\n",
        "\n",
        "*Your Answer:*\n",
        "\n",
        "- The x-axis is the training data and the y-axis is the test data, the bright row is given by the intensity value of the compared image.\n",
        "- Same goes for column but a training image is compared with all test images."
      ]
    },
    {
      "cell_type": "markdown",
      "metadata": {
        "id": "O6kXLZ62PvlH"
      },
      "source": [
        "### Question 2\n",
        "\n",
        "We can also use other distance metrics such as L1 distance.\n",
        "For pixel values $p_{ij}^{(k)}$ at location $(i,j)$ of some image $I_k$, \n",
        "\n",
        "the mean $\\mu$ across all pixels over all images is $$\\mu=\\frac{1}{nhw}\\sum_{k=1}^n\\sum_{i=1}^{h}\\sum_{j=1}^{w}p_{ij}^{(k)}$$\n",
        "And the pixel-wise mean $\\mu_{ij}$ across all images is \n",
        "$$\\mu_{ij}=\\frac{1}{n}\\sum_{k=1}^np_{ij}^{(k)}.$$\n",
        "The general standard deviation $\\sigma$ and pixel-wise standard deviation $\\sigma_{ij}$ is defined similarly.\n",
        "\n",
        "Which of the following preprocessing steps will not change the performance of a Nearest Neighbor classifier that uses L1 distance? Select all that apply.\n",
        "1. Subtracting the mean $\\mu$ ($\\tilde{p}_{ij}^{(k)}=p_{ij}^{(k)}-\\mu$.)\n",
        "2. Subtracting the per pixel mean $\\mu_{ij}$  ($\\tilde{p}_{ij}^{(k)}=p_{ij}^{(k)}-\\mu_{ij}$.)\n",
        "3. Subtracting the mean $\\mu$ and dividing by the standard deviation $\\sigma$.\n",
        "4. Subtracting the pixel-wise mean $\\mu_{ij}$ and dividing by the pixel-wise standard deviation $\\sigma_{ij}$.\n",
        "5. Rotating the coordinate axes of the data.\n",
        "\n",
        "*Your Answer:*\n",
        "**1** and **3** are correct\n",
        "\n",
        "*Your Explanation:*"
      ]
    },
    {
      "cell_type": "markdown",
      "metadata": {
        "id": "Uec_4pmqPvlH"
      },
      "source": [
        "### Question 3\n",
        "\n",
        "Which of the following statements about $k$-Nearest Neighbor ($k$-NN) are true in a classification setting, and for all $k$? Select all that apply.\n",
        "1. The decision boundary (hyperplane between classes in feature space) of the k-NN classifier is linear.\n",
        "2. The training error of a 1-NN will always be lower than that of 5-NN.\n",
        "3. The test error of a 1-NN will always be lower than that of a 5-NN.\n",
        "4. The time needed to classify a test example with the k-NN classifier grows with the size of the training set.\n",
        "5. None of the above.\n",
        "\n",
        "*Your Answer:*\n",
        "**2** and **4** are correct.\n",
        "\n",
        "*Your Explanation:*\n",
        "2. The nearest neghbor is itself so test error for 1-NN is 0.\n",
        "4. The algorithm has a linear time complexity.\n",
        "\n"
      ]
    }
  ],
  "metadata": {
    "kernelspec": {
      "display_name": "mipt",
      "language": "python",
      "name": "mipt"
    },
    "language_info": {
      "codemirror_mode": {
        "name": "ipython",
        "version": 3
      },
      "file_extension": ".py",
      "mimetype": "text/x-python",
      "name": "python",
      "nbconvert_exporter": "python",
      "pygments_lexer": "ipython3",
      "version": "3.9.5"
    },
    "colab": {
      "provenance": [],
      "collapsed_sections": [
        "9GoIxGuzPvlE",
        "Xe1UvGqIPvlF",
        "ywU15_VfPvlF",
        "EdR6VXc-PvlG"
      ]
    }
  },
  "nbformat": 4,
  "nbformat_minor": 0
}